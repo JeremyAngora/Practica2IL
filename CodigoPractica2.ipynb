{
 "cells": [
  {
   "cell_type": "markdown",
   "metadata": {},
   "source": [
    "# Práctica 2 Ingeniería Linguística"
   ]
  },
  {
   "cell_type": "code",
   "execution_count": 37,
   "metadata": {},
   "outputs": [],
   "source": [
    "from sklearn.feature_extraction.text import CountVectorizer\n",
    "from sklearn.feature_extraction.text import TfidfTransformer\n",
    "from sklearn.feature_extraction.text import TfidfVectorizer\n",
    "from sklearn.naive_bayes import MultinomialNB\n",
    "from sklearn.linear_model import SGDClassifier\n",
    "from sklearn.pipeline import Pipeline\n",
    "from sklearn.datasets import load_files\n",
    "import numpy as np\n",
    "import glob"
   ]
  },
  {
   "cell_type": "code",
   "execution_count": 91,
   "metadata": {},
   "outputs": [],
   "source": [
    "def open_glossary():\n",
    "    file_deportes = open(\"./Glosarios/Glosario_deportes/glosario_deportes.txt\",encoding='utf-8')\n",
    "    glosario_deportes = file_deportes.read().split(\"\\n\")\n",
    "    \n",
    "    file_politica = open(\"./Glosarios/Glosario_politica/glosario_politica.txt\",encoding='utf-8')\n",
    "    glosario_politica = file_politica.read().split(\"\\n\")\n",
    "    \n",
    "    file_salud = open(\"./Glosarios/Glosario_salud/glosario_salud.txt\",encoding='utf-8')\n",
    "    glosario_salud = file_salud.read().split(\"\\n\")\n",
    "    \n",
    "    glosarios = [glosario_deportes,glosario_politica,glosario_salud]\n",
    "    \n",
    "    return glosarios"
   ]
  },
  {
   "cell_type": "code",
   "execution_count": 92,
   "metadata": {},
   "outputs": [],
   "source": [
    "glosario = open_glossary()\n",
    "glosario_deportes = glosario[0]\n",
    "glosario_politica = glosario[1]\n",
    "glosario_salud = glosario[2]"
   ]
  },
  {
   "cell_type": "code",
   "execution_count": 35,
   "metadata": {},
   "outputs": [],
   "source": [
    "vectorizer_deportes = CountVectorizer(vocabulary = glosarios[0])"
   ]
  },
  {
   "cell_type": "code",
   "execution_count": 30,
   "metadata": {},
   "outputs": [],
   "source": [
    "def load_documents(filenames):\n",
    "    documents = []\n",
    "    for i in filenames:\n",
    "        file_document = open(i,encoding='utf-8')\n",
    "        documents.append(file_document.read().split())\n",
    "    \n",
    "    return documents"
   ]
  },
  {
   "cell_type": "code",
   "execution_count": 33,
   "metadata": {},
   "outputs": [],
   "source": [
    "filenames_deportes = glob.glob('./Documentos/Deportes/*')\n",
    "filenames_politica = glob.glob('./Documentos/Politica/*')\n",
    "filenames_salud = glob.glob('./Documentos/Salud/*')\n",
    "\n",
    "\n",
    "documentos_deportes = load_documents(filenames_deportes)\n",
    "documentos_politica = load_documents(filenames_politica)\n",
    "documentos_salud = load_documents(filenames_salud)"
   ]
  },
  {
   "cell_type": "code",
   "execution_count": 53,
   "metadata": {},
   "outputs": [],
   "source": [
    "##########################################"
   ]
  },
  {
   "cell_type": "code",
   "execution_count": 66,
   "metadata": {},
   "outputs": [],
   "source": [
    "import numpy as np\n",
    "import re\n",
    "import nltk\n",
    "from sklearn.datasets import load_files\n",
    "#nltk.download('stopwords')\n",
    "import pickle\n",
    "from nltk.corpus import stopwords\n",
    "articles = load_files(r\"./Documentos\",encoding='utf-8')\n",
    "X, y = articles.data, articles.target"
   ]
  },
  {
   "cell_type": "code",
   "execution_count": 67,
   "metadata": {},
   "outputs": [],
   "source": [
    "documents = []\n",
    "for d in range(0, len(X)):\n",
    "    document = re.sub(r'\\W', ' ', str(X[d]))\n",
    "    document = document.lower()\n",
    "    documents.append(document)"
   ]
  },
  {
   "cell_type": "code",
   "execution_count": 99,
   "metadata": {},
   "outputs": [],
   "source": [
    "vectorizer_deportes = CountVectorizer(vocabulary = glosario[0],ngram_range=(1, 2))\n",
    "vectorizer_politica = CountVectorizer(vocabulary = glosario[1],ngram_range=(1, 2))\n",
    "vectorizer_salud = CountVectorizer(vocabulary = glosario[2],ngram_range=(1, 2))\n",
    "\n",
    "X_deportes = vectorizer_deportes.fit_transform(documents).toarray()\n",
    "tfidfconverter = TfidfTransformer()\n",
    "X = tfidfconverter.fit_transform(X).toarray()\n",
    "from sklearn.model_selection import train_test_split\n",
    "X_train, X_test, y_train, y_test = train_test_split(X, y, test_size=0.2, random_state=0)"
   ]
  },
  {
   "cell_type": "code",
   "execution_count": 101,
   "metadata": {},
   "outputs": [
    {
     "data": {
      "text/plain": [
       "RandomForestClassifier(n_estimators=1000, random_state=0)"
      ]
     },
     "execution_count": 101,
     "metadata": {},
     "output_type": "execute_result"
    }
   ],
   "source": [
    "from sklearn.ensemble import RandomForestClassifier\n",
    "\n",
    "\n",
    "classifier = RandomForestClassifier(n_estimators=1000, random_state=0)\n",
    "classifier.fit(X_train, y_train) "
   ]
  },
  {
   "cell_type": "code",
   "execution_count": 102,
   "metadata": {},
   "outputs": [],
   "source": [
    "y_pred = classifier.predict(X_test)"
   ]
  },
  {
   "cell_type": "code",
   "execution_count": 104,
   "metadata": {},
   "outputs": [
    {
     "name": "stdout",
     "output_type": "stream",
     "text": [
      "0.7894736842105263\n"
     ]
    }
   ],
   "source": [
    "from sklearn.metrics import classification_report, confusion_matrix, accuracy_score\n",
    "\n",
    "print(accuracy_score(y_test, y_pred))"
   ]
  },
  {
   "cell_type": "code",
   "execution_count": null,
   "metadata": {},
   "outputs": [],
   "source": []
  }
 ],
 "metadata": {
  "kernelspec": {
   "display_name": "Python 3",
   "language": "python",
   "name": "python3"
  },
  "language_info": {
   "codemirror_mode": {
    "name": "ipython",
    "version": 3
   },
   "file_extension": ".py",
   "mimetype": "text/x-python",
   "name": "python",
   "nbconvert_exporter": "python",
   "pygments_lexer": "ipython3",
   "version": "3.8.3"
  }
 },
 "nbformat": 4,
 "nbformat_minor": 4
}
