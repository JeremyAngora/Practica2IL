{
 "cells": [
  {
   "cell_type": "markdown",
   "metadata": {},
   "source": [
    "# Práctica 2 Ingeniería Linguística"
   ]
  },
  {
   "cell_type": "code",
   "execution_count": 36,
   "metadata": {},
   "outputs": [],
   "source": [
    "from sklearn.feature_extraction.text import CountVectorizer,TfidfTransformer,TfidfVectorizer\n",
    "from sklearn.naive_bayes import MultinomialNB\n",
    "from sklearn.neighbors import KNeighborsClassifier\n",
    "from sklearn.svm import LinearSVC\n",
    "from sklearn.linear_model import SGDClassifier\n",
    "from sklearn.pipeline import Pipeline\n",
    "from sklearn.datasets import load_files\n",
    "import numpy as np\n",
    "import glob\n",
    "from sklearn.metrics import classification_report, confusion_matrix, accuracy_score\n",
    "from sklearn.model_selection import train_test_split"
   ]
  },
  {
   "cell_type": "code",
   "execution_count": 2,
   "metadata": {},
   "outputs": [],
   "source": [
    "def open_glossary():\n",
    "    file_deportes = open(\"./Glosarios/Glosario_deportes/glosario_deportes.txt\",encoding='utf-8')\n",
    "    glosario_deportes = file_deportes.read().split(\"\\n\")\n",
    "    \n",
    "    file_politica = open(\"./Glosarios/Glosario_politica/glosario_politica.txt\",encoding='utf-8')\n",
    "    glosario_politica = file_politica.read().split(\"\\n\")\n",
    "    \n",
    "    file_salud = open(\"./Glosarios/Glosario_salud/glosario_salud.txt\",encoding='utf-8')\n",
    "    glosario_salud = file_salud.read().split(\"\\n\")\n",
    "    \n",
    "    glosarios = [glosario_deportes,glosario_politica,glosario_salud]\n",
    "    \n",
    "    return glosarios"
   ]
  },
  {
   "cell_type": "code",
   "execution_count": 3,
   "metadata": {},
   "outputs": [],
   "source": [
    "glosario = open_glossary()\n",
    "glosario_deportes = glosario[0]\n",
    "glosario_politica = glosario[1]\n",
    "glosario_salud = glosario[2]"
   ]
  },
  {
   "cell_type": "code",
   "execution_count": 3,
   "metadata": {},
   "outputs": [],
   "source": [
    "file = open(\"./Glosarios/glosario_all.txt\",encoding='utf-8')\n",
    "glosario = file.read().split(\"\\n\")"
   ]
  },
  {
   "cell_type": "code",
   "execution_count": 4,
   "metadata": {},
   "outputs": [
    {
     "name": "stdout",
     "output_type": "stream",
     "text": [
      "['asma', 'defectos', 'medicamentos', 'salud', 'azúcar', 'caso', 'estudio', 'riesgo', 'medicación', 'embarazo', 'cirujía', 'síntomas', 'dolor', 'mujeres', 'enfermedad', 'problema', 'factores', 'pandemia', 'niños', 'productos', 'artículo', 'gobierno', 'ley', 'constitución', 'reforma', 'mayoría', 'debate', 'parte', 'rey', 'congreso', 'comisión', 'país', 'derecho', 'ministerio', 'públicos', 'comunidad', 'partido', 'laboral', 'política', 'electoral', 'ganar', 'derbi', 'Real Madrid', 'Madrid', 'Atlético de Madrid', 'Atleti', 'olímpicos', 'final', 'rival', 'partidos', 'deportivo', 'penalti', 'liga', 'fútbol', 'equipo', 'equipos', 'aficionados', 'futbolistas', 'torneo', 'club', 'balón', 'gol']\n"
     ]
    }
   ],
   "source": [
    "print(glosario)"
   ]
  },
  {
   "cell_type": "code",
   "execution_count": 30,
   "metadata": {},
   "outputs": [],
   "source": [
    "def load_documents(filenames):\n",
    "    documents = []\n",
    "    for i in filenames:\n",
    "        file_document = open(i,encoding='utf-8')\n",
    "        documents.append(file_document.read().split())\n",
    "    \n",
    "    return documents"
   ]
  },
  {
   "cell_type": "code",
   "execution_count": 33,
   "metadata": {},
   "outputs": [],
   "source": [
    "filenames_deportes = glob.glob('./Documentos/Deportes/*')\n",
    "filenames_politica = glob.glob('./Documentos/Politica/*')\n",
    "filenames_salud = glob.glob('./Documentos/Salud/*')\n",
    "\n",
    "\n",
    "documentos_deportes = load_documents(filenames_deportes)\n",
    "documentos_politica = load_documents(filenames_politica)\n",
    "documentos_salud = load_documents(filenames_salud)"
   ]
  },
  {
   "cell_type": "code",
   "execution_count": null,
   "metadata": {},
   "outputs": [],
   "source": []
  },
  {
   "cell_type": "code",
   "execution_count": 53,
   "metadata": {},
   "outputs": [],
   "source": [
    "##########################################"
   ]
  },
  {
   "cell_type": "code",
   "execution_count": 54,
   "metadata": {},
   "outputs": [],
   "source": [
    "import numpy as np\n",
    "import re\n",
    "import nltk\n",
    "from sklearn.datasets import load_files\n",
    "#nltk.download('stopwords')\n",
    "import pickle\n",
    "from nltk.corpus import stopwords\n",
    "articles = load_files(r\"./Documentos/\",encoding='utf-8')\n",
    "X, y = articles.data, articles.target"
   ]
  },
  {
   "cell_type": "code",
   "execution_count": 86,
   "metadata": {},
   "outputs": [
    {
     "name": "stdout",
     "output_type": "stream",
     "text": [
      "91\n",
      "91\n",
      "[0 0 1 1 2 0 1 1 1 2 0 0 1 2 0 0 0 2 2 1 0 0 2 1 2 1 2 2 2 0 2 2 0 0 1 1 2\n",
      " 1 1 0 0 0 1 1 0 2 2 0 1 0 1 0 1 0 1 0 1 2 1 2 0 1 2 0 2 0 0 1 2 2 2 0 2 2\n",
      " 0 1 1 1 2 1 0 2 1 0 2 0 2 2 2 1 1]\n"
     ]
    }
   ],
   "source": [
    "print(len(y))\n",
    "print(len(X))\n",
    "print(y)"
   ]
  },
  {
   "cell_type": "code",
   "execution_count": 56,
   "metadata": {},
   "outputs": [],
   "source": [
    "documents = []\n",
    "for d in range(0, len(X)):\n",
    "    document = re.sub(r'\\W', ' ', str(X[d]))\n",
    "    document = document.lower()\n",
    "    documents.append(document)"
   ]
  },
  {
   "cell_type": "code",
   "execution_count": 57,
   "metadata": {},
   "outputs": [
    {
     "name": "stdout",
     "output_type": "stream",
     "text": [
      "['asma', 'defectos', 'medicamentos', 'salud', 'azúcar', 'caso', 'estudio', 'riesgo', 'medicación', 'embarazo', 'cirujía', 'síntomas', 'dolor', 'mujeres', 'enfermedad', 'problema', 'factores', 'pandemia', 'niños', 'productos', 'artículo', 'gobierno', 'ley', 'constitución', 'reforma', 'mayoría', 'debate', 'parte', 'rey', 'congreso', 'comisión', 'país', 'derecho', 'ministerio', 'públicos', 'comunidad', 'partido', 'laboral', 'política', 'electoral', 'ganar', 'derbi', 'Real Madrid', 'Madrid', 'Atlético de Madrid', 'Atleti', 'olímpicos', 'final', 'rival', 'partidos', 'deportivo', 'penalti', 'liga', 'fútbol', 'equipo', 'equipos', 'aficionados', 'futbolistas', 'torneo', 'club', 'balón', 'gol']\n"
     ]
    }
   ],
   "source": [
    "vectorizer_deportes = CountVectorizer(vocabulary = glosario[0],ngram_range=(1, 2))\n",
    "vectorizer_politica = CountVectorizer(vocabulary = glosario[1],ngram_range=(1, 2))\n",
    "vectorizer_salud = CountVectorizer(vocabulary = glosario[2],ngram_range=(1, 2))\n",
    "\n",
    "\n",
    "vectorizer_ = CountVectorizer(vocabulary = glosario,ngram_range=(1, 2))\n",
    "\n",
    "print(vectorizer_.vocabulary)"
   ]
  },
  {
   "cell_type": "code",
   "execution_count": 58,
   "metadata": {},
   "outputs": [
    {
     "name": "stdout",
     "output_type": "stream",
     "text": [
      "[0 0 0 0 0 0 0 0 0 0 0 0 0 0 0 0 0 0 0 0 0 0 0 0 0 0 0 1 0 0 0 0 1 0 0 0 0\n",
      " 0 0 0 0 0 0 0 0 0 0 1 0 1 0 2 0 0 2 0 0 0 0 0 5 5]\n"
     ]
    }
   ],
   "source": [
    "X_ = vectorizer_.fit_transform(documents).toarray()\n",
    "print((X_[0]))"
   ]
  },
  {
   "cell_type": "code",
   "execution_count": 59,
   "metadata": {},
   "outputs": [
    {
     "data": {
      "text/plain": [
       "62"
      ]
     },
     "execution_count": 59,
     "metadata": {},
     "output_type": "execute_result"
    }
   ],
   "source": [
    "len(X_[0])"
   ]
  },
  {
   "cell_type": "code",
   "execution_count": 60,
   "metadata": {},
   "outputs": [
    {
     "name": "stdout",
     "output_type": "stream",
     "text": [
      "[0.         0.         0.         0.         0.         0.\n",
      " 0.         0.         0.         0.         0.         0.\n",
      " 0.         0.         0.         0.         0.         0.\n",
      " 0.         0.         0.         0.         0.         0.\n",
      " 0.         0.         0.         0.06356944 0.         0.\n",
      " 0.         0.         0.10823254 0.         0.         0.\n",
      " 0.         0.         0.         0.         0.         0.\n",
      " 0.         0.         0.         0.         0.         0.07961789\n",
      " 0.         0.08959375 0.         0.31053539 0.         0.\n",
      " 0.18252539 0.         0.         0.         0.         0.\n",
      " 0.67128422 0.62410604]\n"
     ]
    }
   ],
   "source": [
    "tfidfconverter = TfidfTransformer()\n",
    "X_ = tfidfconverter.fit_transform(X_).toarray()\n",
    "print(X_[0])"
   ]
  },
  {
   "cell_type": "code",
   "execution_count": 131,
   "metadata": {},
   "outputs": [
    {
     "name": "stdout",
     "output_type": "stream",
     "text": [
      "{0: 0.0, 5: 0.0, 14: 0.0, 16: 0.0, 20: 0.0, 32: 0.0, 33: 0.0, 40: 0.0, 44: 0.0, 47: 0.0, 49: 0.0, 53: 0.0, 74: 0.0, 80: 0.0, 83: 0.0, 85: 0.0, 29: 0.0027929494264389287, 11: 0.015609058257533892, 55: 0.01615203707097912, 60: 0.02339658625127894, 39: 0.04614214357475954, 66: 0.05372589767127467, 41: 0.05929550257560212, 21: 0.06322630474895718, 65: 0.06805732002351383, 10: 0.07618645947428115, 15: 0.08117676007293373, 51: 0.08472215468683642, 63: 0.10373395442560218, 1: 0.12122534383357753, 71: 0.1532762838618743}\n",
      "####################################################################################################\n",
      "{8: 0.08068604103829702, 37: 0.08068604103829702, 38: 0.14383376101303358, 23: 0.19324157859200342, 19: 0.22406443261209974, 52: 0.2601851691583803, 90: 0.2697134299857581, 12: 0.28014318325432397, 56: 0.28139349138825165, 35: 0.2828750401866966, 54: 0.286757482623737, 50: 0.28728738024883027, 7: 0.31249727540217376, 34: 0.3191481494937549, 89: 0.34137163423624606, 82: 0.35275142527204806, 25: 0.3828628556418714, 75: 0.39531951688071354, 42: 0.42274184418310856, 6: 0.42373077080627464, 67: 0.4244709778074188, 79: 0.4395382208715295, 2: 0.4751310430511374, 76: 0.4751310430511374, 3: 0.4877173198091096, 58: 0.5025304405316188, 61: 0.5180321270850661, 77: 0.5288148002791202, 43: 0.5373714961574663, 48: 0.5482932029669129}\n",
      "####################################################################################################\n",
      "{4: 0.0, 13: 0.0, 17: 0.0, 18: 0.0, 26: 0.0, 27: 0.0, 28: 0.0, 30: 0.0, 31: 0.0, 45: 0.0, 57: 0.0, 59: 0.0, 62: 0.0, 64: 0.0, 68: 0.0, 69: 0.0, 70: 0.0, 72: 0.0, 73: 0.0, 78: 0.0, 81: 0.0, 86: 0.0, 87: 0.0, 84: 0.013735014639981502, 36: 0.04541347028572551, 46: 0.05075909472434392, 88: 0.06603009064773091, 22: 0.06662943290351142, 24: 0.06995185557871919, 9: 0.2042517366668114}\n"
     ]
    }
   ],
   "source": [
    "from scipy import spatial\n",
    "\n",
    "glosario_deportes = np.zeros(X_[0].shape)\n",
    "glosario_deportes[0:22] = 1\n",
    "glosario_politica = np.zeros(X_[0].shape)\n",
    "glosario_politica[22:42] = 1\n",
    "glosario_salud = np.zeros(X_[0].shape)\n",
    "glosario_salud[42:62] = 1\n",
    "\n",
    "result = 1 - spatial.distance.cosine(X_[4], glosario_deportes)\n",
    "#print(result)\n",
    "\n",
    "X_deportes = []\n",
    "X_politica = []\n",
    "X_salud = []\n",
    "cosine_distance_deporte = {}\n",
    "cosine_distance_politica = {}\n",
    "cosine_distance_salud = {}\n",
    "\n",
    "for i in range(91):\n",
    "    if y[i] == 0:\n",
    "        X_deportes.append(X_[i])\n",
    "        cosine_distance_deporte[i] = 1 - spatial.distance.cosine(glosario_deportes,X_[i])\n",
    "        \n",
    "    elif y[i] == 1:\n",
    "        X_politica.append(X_[i])\n",
    "        cosine_distance_politica[i] = 1 - spatial.distance.cosine(glosario_politica,X_[i])\n",
    "        \n",
    "    else:\n",
    "        X_salud.append(X_[i])\n",
    "        cosine_distance_salud[i] = 1 - spatial.distance.cosine(glosario_salud,X_[i])\n",
    "    \n",
    "\n",
    "cosine_distance_deporte  = {k: v for k, v in sorted(cosine_distance_deporte.items(), key=lambda item: item[1])}\n",
    "cosine_distance_politica = {k: v for k, v in sorted(cosine_distance_politica.items(), key=lambda item: item[1])}\n",
    "cosine_distance_salud = {k: v for k, v in sorted(cosine_distance_salud.items(), key=lambda item: item[1])}\n",
    "\n",
    "\n",
    "print(cosine_distance_deporte)\n",
    "print('####################################################################################################')\n",
    "print(cosine_distance_politica)\n",
    "print('####################################################################################################')\n",
    "print(cosine_distance_salud)\n",
    "    \n",
    "  "
   ]
  },
  {
   "cell_type": "code",
   "execution_count": 61,
   "metadata": {},
   "outputs": [
    {
     "name": "stdout",
     "output_type": "stream",
     "text": [
      "45\n",
      "46\n",
      "45\n",
      "46\n"
     ]
    }
   ],
   "source": [
    "X_train, X_test, y_train, y_test = train_test_split(X_, y, test_size=0.5, random_state=0)\n",
    "\n",
    "\n",
    "print(len(X_train))\n",
    "print(len(X_test))\n",
    "print(len(y_train))\n",
    "print(len(y_test))"
   ]
  },
  {
   "cell_type": "code",
   "execution_count": 62,
   "metadata": {},
   "outputs": [
    {
     "name": "stdout",
     "output_type": "stream",
     "text": [
      "0.8043478260869565\n",
      "[[-0.80771244  1.08163422 -1.2820154 ]\n",
      " [-0.92720323 -0.5089225   0.44634143]\n",
      " [-0.01195369 -0.30134021 -0.62040726]\n",
      " [ 0.72537103 -0.55221725 -1.22540714]\n",
      " [-0.40474337 -0.19459103 -0.34292005]\n",
      " [-0.70881262 -1.16829827  0.91055879]\n",
      " [-0.77342779  0.04121952 -0.22622752]\n",
      " [-0.9225408   1.16751495 -1.30233533]\n",
      " [-1.09658091 -1.22413782  1.29679465]\n",
      " [-0.81667838  0.54839928 -0.71281411]\n",
      " [-1.08275107  0.82862203 -0.7507375 ]\n",
      " [-0.9363674  -1.05731519  0.99939471]\n",
      " [ 0.01996233 -0.67290889 -0.32287009]\n",
      " [-0.44203369 -0.1963677  -0.27756951]\n",
      " [-0.97996241  0.59918901 -0.63282674]\n",
      " [-0.63788245  0.23716196 -0.53724582]\n",
      " [-0.45712001 -0.91507695  0.42563172]\n",
      " [-0.78016785  0.31914127 -0.59718643]\n",
      " [-0.26481824 -0.02668755 -0.6148333 ]\n",
      " [-0.66604249  0.04765717 -0.33289674]\n",
      " [-0.37824791 -0.24653677 -0.37880616]\n",
      " [-1.14910938  0.16315419 -0.09514766]\n",
      " [-0.78511864 -0.84676668  0.65696126]\n",
      " [-0.93943453  0.59440721 -0.62871659]\n",
      " [-0.34092722 -0.62131261 -0.00920942]\n",
      " [-0.24075054 -0.38496934 -0.29520561]\n",
      " [ 0.08601268 -0.84525212 -0.24718064]\n",
      " [ 0.90113392 -1.08009934 -0.85831337]\n",
      " [-0.83527399 -1.24113335  1.08341852]\n",
      " [-0.89701629  0.44584685 -0.546223  ]\n",
      " [-0.28403205 -0.85045043  0.16293547]\n",
      " [-0.80771244  1.08163422 -1.2820154 ]\n",
      " [-0.91590358 -1.17926744  1.09789796]\n",
      " [-1.00398173 -0.65248535  0.63680134]\n",
      " [ 0.07028593 -0.37272865 -0.72878878]\n",
      " [-0.13931143 -0.59651162 -0.27098175]\n",
      " [-0.9477651   0.67631815 -0.81850339]\n",
      " [ 0.70898663 -0.93918815 -0.75050338]\n",
      " [-1.12047208  0.99477883 -0.90920895]\n",
      " [-0.66659459 -0.44881701  0.16617155]\n",
      " [ 0.58733241 -0.57244332 -1.08567382]\n",
      " [-0.81210929 -0.78613888  0.62366438]\n",
      " [ 0.39361357 -0.65840342 -0.72127659]\n",
      " [-0.90465509  0.28633233 -0.34818835]\n",
      " [ 0.08852397 -0.82941394 -0.2195686 ]\n",
      " [-0.94415958  0.54296802 -0.59160836]]\n",
      "46\n"
     ]
    }
   ],
   "source": [
    "classifier = LinearSVC()\n",
    "classifier.fit(X_train, y_train) \n",
    "y_pred = classifier.predict(X_test)\n",
    "print(accuracy_score(y_test, y_pred))\n",
    "print(classifier.decision_function(X_test))\n",
    "print(len(X_test))"
   ]
  },
  {
   "cell_type": "code",
   "execution_count": 15,
   "metadata": {},
   "outputs": [
    {
     "name": "stdout",
     "output_type": "stream",
     "text": [
      "0.8478260869565217\n",
      "[[0.11241705 0.77211086 0.11547209]\n",
      " [0.141879   0.21964613 0.63847486]\n",
      " [0.46643956 0.35264953 0.18091091]\n",
      " [0.73560579 0.14479737 0.11959684]\n",
      " [0.34709942 0.33903749 0.31386309]\n",
      " [0.17296956 0.18716544 0.639865  ]\n",
      " [0.20140884 0.40970274 0.38888842]\n",
      " [0.10508869 0.78995234 0.10495897]\n",
      " [0.07454235 0.10661522 0.81884243]\n",
      " [0.21461934 0.56649839 0.21888227]\n",
      " [0.12585929 0.62026476 0.25387595]\n",
      " [0.1198379  0.18935204 0.69081005]\n",
      " [0.59165718 0.20776454 0.20057828]\n",
      " [0.28750076 0.37060379 0.34189545]\n",
      " [0.12137561 0.5535901  0.32503428]\n",
      " [0.21087903 0.51495589 0.27416509]\n",
      " [0.3419433  0.22245577 0.43560093]\n",
      " [0.2196833  0.56408689 0.21622981]\n",
      " [0.43232908 0.3661613  0.20150962]\n",
      " [0.18176482 0.54097314 0.27726204]\n",
      " [0.24847874 0.3855802  0.36594107]\n",
      " [0.10507845 0.58869315 0.3062284 ]\n",
      " [0.17941045 0.17729858 0.64329097]\n",
      " [0.15464451 0.59172959 0.2536259 ]\n",
      " [0.37406471 0.23370814 0.39222715]\n",
      " [0.40783767 0.2895397  0.30262263]\n",
      " [0.69561007 0.16088169 0.14350824]\n",
      " [0.7529152  0.11751848 0.12956632]\n",
      " [0.12995844 0.12813968 0.74190189]\n",
      " [0.13742932 0.59998827 0.26258241]\n",
      " [0.4687661  0.22693471 0.30429919]\n",
      " [0.11241705 0.77211086 0.11547209]\n",
      " [0.10531533 0.15260497 0.7420797 ]\n",
      " [0.10324786 0.16913051 0.72762164]\n",
      " [0.56613567 0.24782216 0.18604217]\n",
      " [0.3438217  0.26362933 0.39254897]\n",
      " [0.14046872 0.68491263 0.17461864]\n",
      " [0.74320659 0.12967755 0.12711586]\n",
      " [0.13241136 0.66043774 0.2071509 ]\n",
      " [0.18013708 0.26417808 0.55568484]\n",
      " [0.66313363 0.18969335 0.14717302]\n",
      " [0.19199613 0.19290285 0.61510101]\n",
      " [0.73729252 0.1339565  0.12875098]\n",
      " [0.21898476 0.45325043 0.32776481]\n",
      " [0.65818806 0.15901794 0.182794  ]\n",
      " [0.12171883 0.66460025 0.21368091]]\n"
     ]
    }
   ],
   "source": [
    "classifier = MultinomialNB()\n",
    "classifier.fit(X_train, y_train) \n",
    "y_pred = classifier.predict(X_test)\n",
    "print(accuracy_score(y_test, y_pred))\n",
    "print(classifier.predict_proba(X_test))"
   ]
  },
  {
   "cell_type": "code",
   "execution_count": 16,
   "metadata": {},
   "outputs": [
    {
     "name": "stdout",
     "output_type": "stream",
     "text": [
      "0.8478260869565217\n",
      "[[0.         1.         0.        ]\n",
      " [0.         0.33333333 0.66666667]\n",
      " [0.33333333 0.33333333 0.33333333]\n",
      " [1.         0.         0.        ]\n",
      " [0.33333333 0.66666667 0.        ]\n",
      " [0.         0.         1.        ]\n",
      " [0.         0.66666667 0.33333333]\n",
      " [0.         1.         0.        ]\n",
      " [0.         0.         1.        ]\n",
      " [0.         1.         0.        ]\n",
      " [0.         1.         0.        ]\n",
      " [0.         0.         1.        ]\n",
      " [1.         0.         0.        ]\n",
      " [0.         1.         0.        ]\n",
      " [0.         1.         0.        ]\n",
      " [0.         1.         0.        ]\n",
      " [0.33333333 0.         0.66666667]\n",
      " [0.         0.66666667 0.33333333]\n",
      " [0.66666667 0.33333333 0.        ]\n",
      " [0.         0.66666667 0.33333333]\n",
      " [0.         0.66666667 0.33333333]\n",
      " [0.         0.66666667 0.33333333]\n",
      " [0.         0.         1.        ]\n",
      " [0.         0.66666667 0.33333333]\n",
      " [0.33333333 0.         0.66666667]\n",
      " [1.         0.         0.        ]\n",
      " [0.66666667 0.         0.33333333]\n",
      " [1.         0.         0.        ]\n",
      " [0.         0.         1.        ]\n",
      " [0.         1.         0.        ]\n",
      " [0.66666667 0.         0.33333333]\n",
      " [0.         1.         0.        ]\n",
      " [0.         0.         1.        ]\n",
      " [0.         0.33333333 0.66666667]\n",
      " [0.66666667 0.33333333 0.        ]\n",
      " [0.33333333 0.         0.66666667]\n",
      " [0.         1.         0.        ]\n",
      " [1.         0.         0.        ]\n",
      " [0.         1.         0.        ]\n",
      " [0.         0.33333333 0.66666667]\n",
      " [1.         0.         0.        ]\n",
      " [0.         0.         1.        ]\n",
      " [1.         0.         0.        ]\n",
      " [0.         0.66666667 0.33333333]\n",
      " [0.66666667 0.         0.33333333]\n",
      " [0.         0.66666667 0.33333333]]\n"
     ]
    }
   ],
   "source": [
    "classifier = KNeighborsClassifier(3)\n",
    "classifier.fit(X_train, y_train) \n",
    "y_pred = classifier.predict(X_test)\n",
    "print(accuracy_score(y_test, y_pred))\n",
    "print(classifier.predict_proba(X_test))"
   ]
  },
  {
   "cell_type": "code",
   "execution_count": 52,
   "metadata": {},
   "outputs": [
    {
     "name": "stdout",
     "output_type": "stream",
     "text": [
      "0.8478260869565217\n"
     ]
    }
   ],
   "source": [
    "Tfidf_vect = TfidfVectorizer(vocabulary = glosario,ngram_range=(1, 2))\n",
    "X_ = Tfidf_vect.fit(documents)\n",
    "\n",
    "X_train, X_test, y_train, y_test = train_test_split(documents, y, test_size=0.5, random_state=0)\n",
    "\n",
    "Train_X_Tfidf = Tfidf_vect.transform(X_train)\n",
    "Test_X_Tfidf = Tfidf_vect.transform(X_test)\n",
    "\n",
    "Modelo = MultinomialNB()\n",
    "Modelo.fit(Train_X_Tfidf, y_train)\n",
    "y_pred = Modelo.predict(Test_X_Tfidf)\n",
    "print(accuracy_score(y_test, y_pred))"
   ]
  },
  {
   "cell_type": "code",
   "execution_count": null,
   "metadata": {},
   "outputs": [],
   "source": []
  }
 ],
 "metadata": {
  "kernelspec": {
   "display_name": "Python 3",
   "language": "python",
   "name": "python3"
  },
  "language_info": {
   "codemirror_mode": {
    "name": "ipython",
    "version": 3
   },
   "file_extension": ".py",
   "mimetype": "text/x-python",
   "name": "python",
   "nbconvert_exporter": "python",
   "pygments_lexer": "ipython3",
   "version": "3.8.3"
  }
 },
 "nbformat": 4,
 "nbformat_minor": 4
}
